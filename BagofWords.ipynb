{
 "cells": [
  {
   "cell_type": "code",
   "execution_count": 1,
   "metadata": {},
   "outputs": [],
   "source": [
    "import nltk\n",
    "import re\n",
    "from nltk.corpus import stopwords\n",
    "from nltk.stem.porter import PorterStemmer\n",
    "from nltk.stem import WordNetLemmatizer"
   ]
  },
  {
   "cell_type": "code",
   "execution_count": null,
   "metadata": {},
   "outputs": [],
   "source": [
    "paragraph = \"\"\"The 2019–20 coronavirus pandemic is an ongoing global outbreak of coronavirus disease 2019 (COVID-19) caused by severe acute respiratory syndrome coronavirus 2 (SARS-CoV-2). First identified by health authorities in Wuhan, Hubei, China in December 2019, the outbreak was later recognized as a pandemic by the World Health Organization (WHO) on 11 March 2020. As of 19 March, more than 219,000 cases have been reported in over 150 countries and territories, with major outbreaks in mainland China, Europe, Iran, South Korea and the United States. More than 8,900 people have died from the disease and more than 85,000 have recovered. On 13 March, the WHO announced that Europe had become the new epicentre of the pandemic. The virus is primarily spread between people in a manner similar to influenza, via respiratory droplets from coughing and sneezing. It is considered most contagious when people are symptomatic, although spread may be possible before symptoms appear. The time between exposure and symptom onset is typically five days, but may range from two to fourteen days. Common symptoms include fever, cough, and shortness of breath. Complications may include pneumonia and acute respiratory distress syndrome. Currently, there is no vaccine or specific antiviral treatment; efforts consist of symptom alleviation and supportive therapy. Recommended preventive measures include hand washing, covering the mouth when coughing, maintaining distance from other people (particularly those who are unwell), and monitoring and self-isolation for fourteen days for people who suspect they are infected. Efforts to prevent spread have included travel restrictions, quarantines, curfews, event postponements and cancellations, and facility closures. These include a quarantine of Hubei, the nationwide quarantines of Italy, Spain, France, the Czech Republic, and Germany, curfew measures in China and South Korea, various border closures or incoming passenger restrictions, screening methods at airports and train stations, and travel advisories regarding regions with community transmission. Schools and universities have closed either on a nationwide or local basis in at least 115 countries, affecting more than 950 million students. The pandemic has led to global socioeconomic disruption, the postponement or cancellation of sporting and cultural events, as well as widespread fears of supply shortages across various sectors including pharmaceuticals, electronics and food. Criticism includes online misinformation and conspiracy theories about the virus, xenophobia and racism, and panic buying of various products such as toilet paper.\"\"\""
   ]
  }
 ],
 "metadata": {
  "kernelspec": {
   "display_name": "Python 3",
   "language": "python",
   "name": "python3"
  },
  "language_info": {
   "codemirror_mode": {
    "name": "ipython",
    "version": 3
   },
   "file_extension": ".py",
   "mimetype": "text/x-python",
   "name": "python",
   "nbconvert_exporter": "python",
   "pygments_lexer": "ipython3",
   "version": "3.6.4"
  }
 },
 "nbformat": 4,
 "nbformat_minor": 2
}
