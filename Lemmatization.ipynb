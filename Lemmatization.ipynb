{
 "cells": [
  {
   "cell_type": "code",
   "execution_count": 1,
   "metadata": {},
   "outputs": [],
   "source": [
    "import nltk\n",
    "import re\n",
    "from nltk.corpus import stopwords\n",
    "from nltk.stem.porter import PorterStemmer\n",
    "from nltk.stem import WordNetLemmatizer"
   ]
  },
  {
   "cell_type": "code",
   "execution_count": 2,
   "metadata": {},
   "outputs": [],
   "source": [
    "paragraph = \"\"\"The 2019–20 coronavirus pandemic is an ongoing global outbreak of coronavirus disease 2019 (COVID-19) caused by severe \n",
    "acute respiratory syndrome coronavirus 2 (SARS-CoV-2). First identified by health authorities in Wuhan, Hubei, \n",
    "China in December 2019, the outbreak was later recognized as a pandemic by the World Health Organization (WHO) \n",
    "on 11 March 2020. As of 19 March, more than 219,000 cases have been reported in over 150 countries and territories, \n",
    "with major outbreaks in mainland China, Europe, Iran, South Korea and the United States. More than 8,900 people have \n",
    "died from the disease and more than 85,000 have recovered. On 13 March, the WHO announced that Europe had become the \n",
    "new epicentre of the pandemic. The virus is primarily spread between people in a manner similar to influenza, via respiratory \n",
    "droplets from coughing and sneezing. It is considered most contagious when people are symptomatic, although spread may be \n",
    "possible before symptoms appear. The time between exposure and symptom onset is typically five days, but may range from two \n",
    "to fourteen days. Common symptoms include fever, cough, and shortness of breath. Complications may include pneumonia and \n",
    "acute respiratory distress syndrome. Currently, there is no vaccine or specific antiviral treatment; efforts consist of symptom \n",
    "alleviation and supportive therapy. Recommended preventive measures include hand washing, covering the mouth when coughing, \n",
    "maintaining distance from other people (particularly those who are unwell), and monitoring and self-isolation for fourteen \n",
    "days for people who suspect they are infected. Efforts to prevent spread have included travel restrictions, quarantines, curfews, \n",
    "event postponements and cancellations, and facility closures. These include a quarantine of Hubei, the nationwide quarantines \n",
    "of Italy, Spain, France, the Czech Republic, and Germany, curfew measures in China and South Korea, various border closures or \n",
    "incoming passenger restrictions, screening methods at airports and train stations, and travel advisories regarding regions with \n",
    "community transmission. Schools and universities have closed either on a nationwide or local basis in at least 115 countries, \n",
    "affecting more than 950 million students. The pandemic has led to global socioeconomic disruption, the postponement or cancellation \n",
    "of sporting and cultural events, as well as widespread fears of supply shortages across various sectors including pharmaceuticals, \n",
    "electronics and food. Criticism includes online misinformation and conspiracy theories about the virus, xenophobia and racism, and \n",
    "panic buying of various products such as toilet paper.\"\"\""
   ]
  },
  {
   "cell_type": "code",
   "execution_count": 3,
   "metadata": {},
   "outputs": [
    {
     "name": "stdout",
     "output_type": "stream",
     "text": [
      "[nltk_data] Downloading package punkt to\n",
      "[nltk_data]     C:\\Users\\braja.bera\\AppData\\Roaming\\nltk_data...\n",
      "[nltk_data]   Package punkt is already up-to-date!\n"
     ]
    },
    {
     "data": {
      "text/plain": [
       "True"
      ]
     },
     "execution_count": 3,
     "metadata": {},
     "output_type": "execute_result"
    }
   ],
   "source": [
    "nltk.download('punkt')"
   ]
  },
  {
   "cell_type": "code",
   "execution_count": 4,
   "metadata": {},
   "outputs": [],
   "source": [
    "sentences = nltk.sent_tokenize(paragraph)\n",
    "lemmatizer = WordNetLemmatizer()"
   ]
  },
  {
   "cell_type": "code",
   "execution_count": 5,
   "metadata": {},
   "outputs": [],
   "source": [
    "for i in range(len(sentences)):\n",
    "    words = nltk.word_tokenize(sentences[i])\n",
    "    words = [lemmatizer.lemmatize(word) for word in words if word not in set(stopwords.words('english'))]\n",
    "    sentences[i] = ' '.join(words) "
   ]
  },
  {
   "cell_type": "code",
   "execution_count": 6,
   "metadata": {},
   "outputs": [
    {
     "data": {
      "text/plain": [
       "['The 2019–20 coronavirus pandemic ongoing global outbreak coronavirus disease 2019 ( COVID-19 ) caused severe acute respiratory syndrome coronavirus 2 ( SARS-CoV-2 ) .',\n",
       " 'First identified health authority Wuhan , Hubei , China December 2019 , outbreak later recognized pandemic World Health Organization ( WHO ) 11 March 2020 .',\n",
       " 'As 19 March , 219,000 case reported 150 country territory , major outbreak mainland China , Europe , Iran , South Korea United States .',\n",
       " 'More 8,900 people died disease 85,000 recovered .',\n",
       " 'On 13 March , WHO announced Europe become new epicentre pandemic .',\n",
       " 'The virus primarily spread people manner similar influenza , via respiratory droplet coughing sneezing .',\n",
       " 'It considered contagious people symptomatic , although spread may possible symptom appear .',\n",
       " 'The time exposure symptom onset typically five day , may range two fourteen day .',\n",
       " 'Common symptom include fever , cough , shortness breath .',\n",
       " 'Complications may include pneumonia acute respiratory distress syndrome .',\n",
       " 'Currently , vaccine specific antiviral treatment ; effort consist symptom alleviation supportive therapy .',\n",
       " 'Recommended preventive measure include hand washing , covering mouth coughing , maintaining distance people ( particularly unwell ) , monitoring self-isolation fourteen day people suspect infected .',\n",
       " 'Efforts prevent spread included travel restriction , quarantine , curfew , event postponement cancellation , facility closure .',\n",
       " 'These include quarantine Hubei , nationwide quarantine Italy , Spain , France , Czech Republic , Germany , curfew measure China South Korea , various border closure incoming passenger restriction , screening method airport train station , travel advisory regarding region community transmission .',\n",
       " 'Schools university closed either nationwide local basis least 115 country , affecting 950 million student .',\n",
       " 'The pandemic led global socioeconomic disruption , postponement cancellation sporting cultural event , well widespread fear supply shortage across various sector including pharmaceutical , electronics food .',\n",
       " 'Criticism includes online misinformation conspiracy theory virus , xenophobia racism , panic buying various product toilet paper .']"
      ]
     },
     "execution_count": 6,
     "metadata": {},
     "output_type": "execute_result"
    }
   ],
   "source": [
    "sentences"
   ]
  },
  {
   "cell_type": "code",
   "execution_count": null,
   "metadata": {},
   "outputs": [],
   "source": []
  }
 ],
 "metadata": {
  "kernelspec": {
   "display_name": "Python 3",
   "language": "python",
   "name": "python3"
  },
  "language_info": {
   "codemirror_mode": {
    "name": "ipython",
    "version": 3
   },
   "file_extension": ".py",
   "mimetype": "text/x-python",
   "name": "python",
   "nbconvert_exporter": "python",
   "pygments_lexer": "ipython3",
   "version": "3.6.4"
  }
 },
 "nbformat": 4,
 "nbformat_minor": 2
}
