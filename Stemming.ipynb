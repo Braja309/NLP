{
 "cells": [
  {
   "cell_type": "code",
   "execution_count": 1,
   "metadata": {},
   "outputs": [],
   "source": [
    "import nltk\n",
    "import re\n",
    "from nltk.corpus import stopwords\n",
    "from nltk.stem.porter import PorterStemmer\n",
    "from nltk.stem import WordNetLemmatizer"
   ]
  },
  {
   "cell_type": "code",
   "execution_count": 2,
   "metadata": {},
   "outputs": [],
   "source": [
    "paragraph = \"\"\"The 2019–20 coronavirus pandemic is an ongoing global outbreak of coronavirus disease 2019 (COVID-19) caused by severe \n",
    "acute respiratory syndrome coronavirus 2 (SARS-CoV-2). First identified by health authorities in Wuhan, Hubei, \n",
    "China in December 2019, the outbreak was later recognized as a pandemic by the World Health Organization (WHO) \n",
    "on 11 March 2020. As of 19 March, more than 219,000 cases have been reported in over 150 countries and territories, \n",
    "with major outbreaks in mainland China, Europe, Iran, South Korea and the United States. More than 8,900 people have \n",
    "died from the disease and more than 85,000 have recovered. On 13 March, the WHO announced that Europe had become the \n",
    "new epicentre of the pandemic. The virus is primarily spread between people in a manner similar to influenza, via respiratory \n",
    "droplets from coughing and sneezing. It is considered most contagious when people are symptomatic, although spread may be \n",
    "possible before symptoms appear. The time between exposure and symptom onset is typically five days, but may range from two \n",
    "to fourteen days. Common symptoms include fever, cough, and shortness of breath. Complications may include pneumonia and \n",
    "acute respiratory distress syndrome. Currently, there is no vaccine or specific antiviral treatment; efforts consist of symptom \n",
    "alleviation and supportive therapy. Recommended preventive measures include hand washing, covering the mouth when coughing, \n",
    "maintaining distance from other people (particularly those who are unwell), and monitoring and self-isolation for fourteen \n",
    "days for people who suspect they are infected. Efforts to prevent spread have included travel restrictions, quarantines, curfews, \n",
    "event postponements and cancellations, and facility closures. These include a quarantine of Hubei, the nationwide quarantines \n",
    "of Italy, Spain, France, the Czech Republic, and Germany, curfew measures in China and South Korea, various border closures or \n",
    "incoming passenger restrictions, screening methods at airports and train stations, and travel advisories regarding regions with \n",
    "community transmission. Schools and universities have closed either on a nationwide or local basis in at least 115 countries, \n",
    "affecting more than 950 million students. The pandemic has led to global socioeconomic disruption, the postponement or cancellation \n",
    "of sporting and cultural events, as well as widespread fears of supply shortages across various sectors including pharmaceuticals, \n",
    "electronics and food. Criticism includes online misinformation and conspiracy theories about the virus, xenophobia and racism, and \n",
    "panic buying of various products such as toilet paper.\"\"\""
   ]
  },
  {
   "cell_type": "code",
   "execution_count": 3,
   "metadata": {},
   "outputs": [
    {
     "name": "stdout",
     "output_type": "stream",
     "text": [
      "[nltk_data] Downloading package punkt to\n",
      "[nltk_data]     C:\\Users\\braja.bera\\AppData\\Roaming\\nltk_data...\n",
      "[nltk_data]   Package punkt is already up-to-date!\n"
     ]
    },
    {
     "data": {
      "text/plain": [
       "True"
      ]
     },
     "execution_count": 3,
     "metadata": {},
     "output_type": "execute_result"
    }
   ],
   "source": [
    "nltk.download('punkt')"
   ]
  },
  {
   "cell_type": "code",
   "execution_count": 4,
   "metadata": {},
   "outputs": [],
   "source": [
    "sentences = nltk.sent_tokenize(paragraph)\n",
    "stemmer = PorterStemmer()"
   ]
  },
  {
   "cell_type": "code",
   "execution_count": 5,
   "metadata": {},
   "outputs": [],
   "source": [
    "for i in range(len(sentences)):\n",
    "    words = nltk.word_tokenize(sentences[i])\n",
    "    words = [stemmer.stem(word) for word in words if word not in set(stopwords.words('english'))]\n",
    "    sentences[i] = ' '.join(words)  "
   ]
  },
  {
   "cell_type": "code",
   "execution_count": 6,
   "metadata": {},
   "outputs": [
    {
     "data": {
      "text/plain": [
       "['the 2019–20 coronaviru pandem ongo global outbreak coronaviru diseas 2019 ( covid-19 ) caus sever acut respiratori syndrom coronaviru 2 ( sars-cov-2 ) .',\n",
       " 'first identifi health author wuhan , hubei , china decemb 2019 , outbreak later recogn pandem world health organ ( who ) 11 march 2020 .',\n",
       " 'As 19 march , 219,000 case report 150 countri territori , major outbreak mainland china , europ , iran , south korea unit state .',\n",
       " 'more 8,900 peopl die diseas 85,000 recov .',\n",
       " 'On 13 march , who announc europ becom new epicentr pandem .',\n",
       " 'the viru primarili spread peopl manner similar influenza , via respiratori droplet cough sneez .',\n",
       " 'It consid contagi peopl symptomat , although spread may possibl symptom appear .',\n",
       " 'the time exposur symptom onset typic five day , may rang two fourteen day .',\n",
       " 'common symptom includ fever , cough , short breath .',\n",
       " 'complic may includ pneumonia acut respiratori distress syndrom .',\n",
       " 'current , vaccin specif antivir treatment ; effort consist symptom allevi support therapi .',\n",
       " 'recommend prevent measur includ hand wash , cover mouth cough , maintain distanc peopl ( particularli unwel ) , monitor self-isol fourteen day peopl suspect infect .',\n",
       " 'effort prevent spread includ travel restrict , quarantin , curfew , event postpon cancel , facil closur .',\n",
       " 'these includ quarantin hubei , nationwid quarantin itali , spain , franc , czech republ , germani , curfew measur china south korea , variou border closur incom passeng restrict , screen method airport train station , travel advisori regard region commun transmiss .',\n",
       " 'school univers close either nationwid local basi least 115 countri , affect 950 million student .',\n",
       " 'the pandem led global socioeconom disrupt , postpon cancel sport cultur event , well widespread fear suppli shortag across variou sector includ pharmaceut , electron food .',\n",
       " 'critic includ onlin misinform conspiraci theori viru , xenophobia racism , panic buy variou product toilet paper .']"
      ]
     },
     "execution_count": 6,
     "metadata": {},
     "output_type": "execute_result"
    }
   ],
   "source": [
    "sentences"
   ]
  },
  {
   "cell_type": "code",
   "execution_count": null,
   "metadata": {},
   "outputs": [],
   "source": []
  }
 ],
 "metadata": {
  "kernelspec": {
   "display_name": "Python 3",
   "language": "python",
   "name": "python3"
  },
  "language_info": {
   "codemirror_mode": {
    "name": "ipython",
    "version": 3
   },
   "file_extension": ".py",
   "mimetype": "text/x-python",
   "name": "python",
   "nbconvert_exporter": "python",
   "pygments_lexer": "ipython3",
   "version": "3.6.4"
  }
 },
 "nbformat": 4,
 "nbformat_minor": 2
}
